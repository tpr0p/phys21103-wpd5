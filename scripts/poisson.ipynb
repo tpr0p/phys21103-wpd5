{
 "cells": [
  {
   "cell_type": "code",
   "execution_count": 11,
   "metadata": {},
   "outputs": [],
   "source": [
    "import numpy as np\n",
    "import matplotlib.pyplot as plt\n",
    "from scipy.stats import poisson"
   ]
  },
  {
   "cell_type": "code",
   "execution_count": 18,
   "metadata": {},
   "outputs": [],
   "source": [
    "#poisson pdf\n",
    "\n",
    "def avg_dist(T,N):\n",
    "    \n",
    "    c = 3.0e8\n",
    "    d = c*T / N\n",
    "    \n",
    "    return d\n",
    "\n",
    "def calc_mu(new_d, mean_d):\n",
    "    \n",
    "    mu = new_d / mean_d\n",
    "    \n",
    "    return mu\n",
    "\n",
    "def calc_prob(T, counts, want_d):\n",
    "\n",
    "    avg_d = avg_dist(T, counts)\n",
    "\n",
    "    mu = calc_mu(want_d, avg_d)\n",
    "\n",
    "    p = 1 - poisson.cdf(1, mu)\n",
    "    \n",
    "    return p"
   ]
  },
  {
   "cell_type": "code",
   "execution_count": 19,
   "metadata": {},
   "outputs": [
    {
     "name": "stdout",
     "output_type": "stream",
     "text": [
      "upper bound of wave packet: 10571.469207521419 nm\n",
      "1.057146920752142e-05\n"
     ]
    }
   ],
   "source": [
    "l = 815\n",
    "dl = 5\n",
    "\n",
    "x = (l **2) / (4 * np.pi * dl)\n",
    "print('upper bound of wave packet: %s nm' %x)\n",
    "x_meter = x * (1e-9)\n",
    "\n",
    "c = 3.0e8\n",
    "print(x_meter)"
   ]
  },
  {
   "cell_type": "code",
   "execution_count": 20,
   "metadata": {},
   "outputs": [
    {
     "data": {
      "text/plain": [
       "1.1891598816760052e-12"
      ]
     },
     "execution_count": 20,
     "metadata": {},
     "output_type": "execute_result"
    }
   ],
   "source": [
    "#MY IDLER DATA I ACTUALLY WANT TO USE:\n",
    "\n",
    "\n",
    "C_counts = 23133\n",
    "C_T = 10\n",
    "\n",
    "int_length = .2 #meters\n",
    "\n",
    "prob = calc_prob(C_T, C_counts, 0.2)\n",
    "\n",
    "prob\n"
   ]
  },
  {
   "cell_type": "code",
   "execution_count": null,
   "metadata": {},
   "outputs": [],
   "source": [
    "#MY SIGNAL DATA I ACTUALLY WANT TO USE:\n",
    "\n"
   ]
  },
  {
   "cell_type": "markdown",
   "metadata": {},
   "source": [
    "Please ignore code below this for the time being its just random shit i threw in\n",
    "- olivia (i tried to make this a signature but it turned into a bullet point, i enjoy it tho so its staying)"
   ]
  },
  {
   "cell_type": "code",
   "execution_count": null,
   "metadata": {},
   "outputs": [],
   "source": [
    "#background data\n",
    "\n",
    "ab_count = 28992\n",
    "bb_count = 46610\n",
    "\n",
    "tb = 10"
   ]
  },
  {
   "cell_type": "code",
   "execution_count": 15,
   "metadata": {},
   "outputs": [],
   "source": [
    "#experiment 1 data\n",
    "a1_count_1 = 1141650\n",
    "b1_coincidences = 9095 #this is coincidences between a and c\n",
    "c1_coincidences = 23133 #this is coinicidences between a and d\n",
    "\n",
    "t1_a = 25\n",
    "\n",
    "#with beamsplit\n",
    "a1_count_bs = 493125\n",
    "b1_count_bs = 472615\n",
    "t1_bs = 10\n",
    "\n",
    "#without beamsplit\n",
    "\n",
    "a1_count = 876984\n",
    "b1_count = 45454\n",
    "t1_nobs = 10\n"
   ]
  },
  {
   "cell_type": "code",
   "execution_count": 30,
   "metadata": {},
   "outputs": [
    {
     "name": "stdout",
     "output_type": "stream",
     "text": [
      "392416.40656095446\n",
      "3000000000.0\n",
      "3041.4272076993043\n"
     ]
    }
   ],
   "source": [
    "a1_rate = a1_count_bs / t1_bs\n",
    "a1_rate\n",
    "\n",
    "photon_space = a1_count_bs * x\n",
    "total_space = t1_bs * c\n",
    "\n",
    "print(photon_space)\n",
    "print(total_space)\n",
    "\n",
    "print(((total_space / a1_count_bs) - x) / 2)"
   ]
  },
  {
   "cell_type": "code",
   "execution_count": null,
   "metadata": {},
   "outputs": [],
   "source": [
    "#experiment 2 data\n",
    "a2_count = 2083360\n",
    "b2_count = 14173\n",
    "c2_count = 45462\n",
    "\n",
    "t2 = 25"
   ]
  },
  {
   "cell_type": "code",
   "execution_count": 5,
   "metadata": {},
   "outputs": [],
   "source": [
    "#experiment 3 data\n",
    "piezo_voltage, idler_rate, coinc12, coinc13 = np.loadtxt('exp3.txt',skiprows=1, unpack=True)"
   ]
  },
  {
   "cell_type": "code",
   "execution_count": null,
   "metadata": {},
   "outputs": [],
   "source": []
  }
 ],
 "metadata": {
  "kernelspec": {
   "display_name": "Python 3",
   "language": "python",
   "name": "python3"
  },
  "language_info": {
   "codemirror_mode": {
    "name": "ipython",
    "version": 3
   },
   "file_extension": ".py",
   "mimetype": "text/x-python",
   "name": "python",
   "nbconvert_exporter": "python",
   "pygments_lexer": "ipython3",
   "version": "3.6.10"
  }
 },
 "nbformat": 4,
 "nbformat_minor": 4
}
